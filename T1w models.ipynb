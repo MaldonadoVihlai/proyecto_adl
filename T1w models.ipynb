{
 "cells": [
  {
   "cell_type": "code",
   "execution_count": 1,
   "id": "d9e47658",
   "metadata": {},
   "outputs": [
    {
     "name": "stdout",
     "output_type": "stream",
     "text": [
      "Tensorflow version: 2.10.0\n"
     ]
    }
   ],
   "source": [
    "import warnings, random, os, pydicom, cv2, glob, re\n",
    "warnings.filterwarnings('ignore')\n",
    "import pandas as pd\n",
    "import numpy as np\n",
    "import seaborn as sns; sns.set()\n",
    "\n",
    "import matplotlib.pyplot as plt\n",
    "%matplotlib inline\n",
    "\n",
    "import tensorflow as tf\n",
    "from tensorflow.keras.applications import InceptionV3, MobileNetV2, VGG19\n",
    "\n",
    "from tensorflow import keras\n",
    "from tensorflow.keras.models import Sequential\n",
    "from tensorflow.keras.layers import Dropout, Flatten, Dense, Input, GlobalAveragePooling2D, MaxPooling2D, Conv2D, AveragePooling2D\n",
    "\n",
    "from tensorflow.keras.callbacks import EarlyStopping\n",
    "\n",
    "from sklearn.metrics import classification_report, confusion_matrix, f1_score\n",
    "from sklearn.model_selection import train_test_split\n",
    "\n",
    "from pydicom.pixel_data_handlers.util import apply_voi_lut\n",
    "\n",
    "tf.config.run_functions_eagerly(True)\n",
    "\n",
    "print('Tensorflow version:', tf.__version__)"
   ]
  },
  {
   "cell_type": "code",
   "execution_count": 2,
   "id": "c8a388fb",
   "metadata": {},
   "outputs": [],
   "source": [
    "mri_types = ['FLAIR','T1w','T1wCE','T2w']\n",
    "SIZE = 256\n",
    "NUM_IMAGES = 64"
   ]
  },
  {
   "cell_type": "code",
   "execution_count": 3,
   "id": "b62d0602",
   "metadata": {},
   "outputs": [],
   "source": [
    "def load_dicom_image(path, img_size=SIZE):\n",
    "    dicom = pydicom.read_file(path)\n",
    "    data = dicom.pixel_array\n",
    "    data = cv2.resize(data, (img_size, img_size))\n",
    "    return data"
   ]
  },
  {
   "cell_type": "code",
   "execution_count": null,
   "id": "5e756511",
   "metadata": {},
   "outputs": [],
   "source": [
    "def load_dicom_images_3d(scan_id, num_imgs=NUM_IMAGES, img_size=SIZE, mri_type=\"T1w\"):\n",
    "    files = sorted(glob.glob(f\"./data/train/{scan_id}/{mri_type}/*.dcm\"), \n",
    "               key=lambda var:[int(x) if x.isdigit() else x for x in re.findall(r'[^0-9]|[0-9]+', var)])\n",
    "    middle = len(files)//2\n",
    "    num_imgs2 = num_imgs//2\n",
    "    p1 = max(0, middle - num_imgs2)\n",
    "    p2 = min(len(files), middle + num_imgs2)\n",
    "    img3d = np.stack([load_dicom_image(f) for f in files[p1:p2]]).T \n",
    "    if img3d.shape[-1] < num_imgs:\n",
    "        n_zero = np.zeros((img_size, img_size, num_imgs - img3d.shape[-1]))\n",
    "        img3d = np.concatenate((img3d,  n_zero), axis = -1)\n",
    "    if np.min(img3d) < np.max(img3d):\n",
    "        img3d = img3d - np.min(img3d)\n",
    "        img3d = img3d / np.max(img3d)     \n",
    "    return img3d"
   ]
  },
  {
   "cell_type": "code",
   "execution_count": null,
   "id": "f88ac9a8",
   "metadata": {},
   "outputs": [],
   "source": [
    "df_labels = pd.read_csv('./labels.csv', dtype={0:'object', 1:'int8'})\n",
    "df_labels.head()"
   ]
  },
  {
   "cell_type": "code",
   "execution_count": null,
   "id": "9a8c4cc7",
   "metadata": {},
   "outputs": [],
   "source": [
    "df_labels_train_val, df_labels_test = train_test_split(df_labels, test_size=0.2, random_state=123)\n",
    "df_labels_train, df_labels_val = train_test_split(df_labels_train_val, test_size=0.2, random_state=123)"
   ]
  },
  {
   "cell_type": "code",
   "execution_count": null,
   "id": "14fdf7e4",
   "metadata": {},
   "outputs": [],
   "source": [
    "def generator_train():\n",
    "    for i in range(df_labels_train.shape[0]):\n",
    "        x = load_dicom_images_3d(df_labels_train['BraTS21ID'].iloc[i])\n",
    "        y = df_labels_train['MGMT_value'].iloc[i]\n",
    "        yield x, y\n",
    "def generator_val():\n",
    "    for i in range(df_labels_val.shape[0]):\n",
    "        x = load_dicom_images_3d(df_labels_val['BraTS21ID'].iloc[i])\n",
    "        y = df_labels_val['MGMT_value'].iloc[i]\n",
    "        yield x, y\n",
    "def generator_test():\n",
    "    for i in range(df_labels_test.shape[0]):\n",
    "        x = load_dicom_images_3d(df_labels_test['BraTS21ID'].iloc[i])\n",
    "        y = df_labels_test['MGMT_value'].iloc[i]\n",
    "        yield x, y"
   ]
  },
  {
   "cell_type": "code",
   "execution_count": null,
   "id": "fb7e2776",
   "metadata": {},
   "outputs": [],
   "source": [
    "ds_train = tf.data.Dataset.from_generator(generator_train, args=[], \n",
    "                                          output_types=(tf.int16, tf.int8), \n",
    "                                          output_shapes = (((SIZE, SIZE, NUM_IMAGES), ())))\n",
    "ds_val = tf.data.Dataset.from_generator(generator_val, args=[], \n",
    "                                          output_types=(tf.int16, tf.int8), \n",
    "                                          output_shapes = (((SIZE, SIZE, NUM_IMAGES), ())))\n",
    "ds_test = tf.data.Dataset.from_generator(generator_test, args=[], \n",
    "                                          output_types=(tf.int16, tf.int8), \n",
    "                                          output_shapes = (((SIZE, SIZE, NUM_IMAGES), ())))\n",
    "ds_train = ds_train.batch(8)\n",
    "ds_val = ds_val.batch(8)\n",
    "ds_test = ds_test.batch(8)"
   ]
  },
  {
   "cell_type": "code",
   "execution_count": null,
   "id": "9d965ce9",
   "metadata": {},
   "outputs": [],
   "source": [
    "def crear_clasificador_propio(n_lay_convs = 3, fil1 = 16, fil2 = 32, fil3 = 64, ks=3, s=2, \n",
    "                              n_lay_dense = 2, nn1 = 32, nn2 = 16, activacion = 'relu'):\n",
    "    output = 1\n",
    "    filtros = [fil1, fil2, fil3]\n",
    "    neurons = [nn1, nn2]\n",
    "    clasificador = Sequential(name=\"ClasificadorPropio\")\n",
    "    clasificador.add(Input(shape=(SIZE, SIZE, NUM_IMAGES)))\n",
    "    for i in range(n_lay_convs):\n",
    "        clasificador.add(Conv2D(filters=filtros[i], kernel_size=ks, strides=s, padding=\"same\", activation=activacion))\n",
    "    clasificador.add(GlobalAveragePooling2D()) \n",
    "    for i in range(n_lay_dense):\n",
    "        clasificador.add(Dense(neurons[i], activation=activacion))\n",
    "    clasificador.add(Dense(output, activation='sigmoid', name= 'Capa_Salida'))\n",
    "    clasificador.compile(loss='binary_crossentropy',\n",
    "                          optimizer='adam', \n",
    "                          metrics=[\"accuracy\"],\n",
    "                          run_eagerly=True)\n",
    "    return clasificador"
   ]
  },
  {
   "cell_type": "code",
   "execution_count": null,
   "id": "cf5a24b4",
   "metadata": {},
   "outputs": [],
   "source": [
    "clasificador_propio = crear_clasificador_propio()\n",
    "clasificador_propio.summary()"
   ]
  },
  {
   "cell_type": "code",
   "execution_count": null,
   "id": "b2fdf082",
   "metadata": {},
   "outputs": [],
   "source": [
    "early_stopping = EarlyStopping(monitor='val_loss', patience=3, verbose=1, mode='min', baseline=None, restore_best_weights=False)"
   ]
  },
  {
   "cell_type": "code",
   "execution_count": null,
   "id": "431f0889",
   "metadata": {},
   "outputs": [],
   "source": [
    "with tf.device('/device:GPU:0'): \n",
    "    clasificador_propio.fit(\n",
    "        ds_train,\n",
    "        validation_data=ds_val,\n",
    "        epochs=10,\n",
    "        callbacks=[early_stopping]\n",
    "    )"
   ]
  },
  {
   "cell_type": "code",
   "execution_count": null,
   "id": "6af0f40f",
   "metadata": {},
   "outputs": [],
   "source": [
    "# clasificador_propio.save('./models/clasificador_propio_base.h5')\n",
    "clasificador_propio = tf.keras.models.load_model('./models/clasificador_propio_base.h5')"
   ]
  },
  {
   "cell_type": "code",
   "execution_count": null,
   "id": "309ddcbf",
   "metadata": {},
   "outputs": [],
   "source": [
    "def darF1Score(model, dataset, print_report=False):\n",
    "    y_true, y_pred = [], []\n",
    "    for x, y in dataset:\n",
    "        y_true.extend(y.numpy().tolist())\n",
    "        y_pred.extend(model.predict(x, verbose=0).round().astype(int).tolist())\n",
    "    if print_report:\n",
    "        print(classification_report(y_true, y_pred))\n",
    "    f1 = f1_score(y_true, y_pred, average='weighted')\n",
    "    return y_true, y_pred, f1"
   ]
  },
  {
   "cell_type": "code",
   "execution_count": null,
   "id": "3cd099d8",
   "metadata": {},
   "outputs": [],
   "source": [
    "y_true, y_pred, f1 = darF1Score(clasificador_propio, ds_val, print_report=True)"
   ]
  },
  {
   "cell_type": "code",
   "execution_count": null,
   "id": "77d21da4",
   "metadata": {},
   "outputs": [],
   "source": [
    "def get_params(params_grid):\n",
    "    params = {}\n",
    "    for key, list_values in params_grid.items():\n",
    "        params[key] = random.choice(list_values)\n",
    "    return params"
   ]
  },
  {
   "cell_type": "code",
   "execution_count": null,
   "id": "8b1411aa",
   "metadata": {},
   "outputs": [],
   "source": [
    "def search_model(create_model, params_grid, ds_train, ds_val, n_iter=25):\n",
    "    params_best_model, best_f1_score = None, 0\n",
    "    for i in range(n_iter):\n",
    "        params = get_params(params_grid)\n",
    "        print('Training inter {} for params:\\n'.format(i+1), params)\n",
    "        model = create_model(**params)\n",
    "        with tf.device('/device:GPU:0'): \n",
    "            model.fit(\n",
    "                ds_train,\n",
    "                validation_data=ds_val,\n",
    "                epochs=25,\n",
    "                callbacks=[early_stopping]\n",
    "            )\n",
    "        f1_score = darF1Score(model, ds_val)[2]\n",
    "        print('F1-score for iter {}: {}'.format(i+1, f1_score))\n",
    "        if f1_score > best_f1_score:\n",
    "            params_best_model = params\n",
    "            best_f1_score = f1_score\n",
    "        print('Best F1-score so far:\\n', best_f1_score)\n",
    "        print('Best params so far:\\n', params_best_model)\n",
    "    return params_best_model, best_f1_score"
   ]
  },
  {
   "cell_type": "code",
   "execution_count": null,
   "id": "0807ea37",
   "metadata": {},
   "outputs": [],
   "source": [
    "params_grid = {  \n",
    "    'n_lay_convs': [1, 2, 3],\n",
    "    'fil1': [20, 16, 12],\n",
    "    'fil2': [40, 32, 24],\n",
    "    'fil3': [80, 64, 48],\n",
    "    'ks': [3, 5, 7],\n",
    "    's': [2, 3, 4],\n",
    "    'n_lay_dense': [1, 2],\n",
    "    'nn1': [40, 32, 24],\n",
    "    'nn2': [20, 16, 12],\n",
    "    'activacion': ['relu','sigmoid']\n",
    "}\n",
    "\n",
    "params_best_model_propio, best_f1_score_propio = search_model(crear_clasificador_propio, params_grid, ds_train, ds_val)"
   ]
  },
  {
   "cell_type": "code",
   "execution_count": null,
   "id": "3a57500f",
   "metadata": {},
   "outputs": [],
   "source": [
    "print('El mejor modelo encontrado por la búsqueda de hiperparámetros obtuvo un F1-score de {} con parámetros \\n{}'.format(best_f1_score_propio, params_best_model_propio))"
   ]
  },
  {
   "cell_type": "code",
   "execution_count": null,
   "id": "eb5f57fa",
   "metadata": {},
   "outputs": [],
   "source": [
    "params_best_model_propio = {'n_lay_convs': 3, 'fil1': 12, 'fil2': 24, 'fil3': 80, 'ks': 5, 's': 2, 'n_lay_dense': 1, 'nn1': 40, 'nn2': 16, 'activacion': 'relu'}\n",
    "best_clasificador_propio = crear_clasificador_propio(**params_best_model_propio)\n",
    "best_clasificador_propio.summary()"
   ]
  },
  {
   "cell_type": "code",
   "execution_count": null,
   "id": "785b65f7",
   "metadata": {},
   "outputs": [],
   "source": [
    "early_stopping = EarlyStopping(monitor='loss', patience=3, verbose=1, mode='min', baseline=None, restore_best_weights=False)\n",
    "with tf.device('/device:GPU:0'): \n",
    "    best_clasificador_propio.fit(\n",
    "        ds_train.concatenate(ds_val),\n",
    "        epochs=12,\n",
    "        callbacks=[early_stopping]\n",
    "    )"
   ]
  },
  {
   "cell_type": "code",
   "execution_count": null,
   "id": "8efb7163",
   "metadata": {},
   "outputs": [],
   "source": [
    "best_clasificador_propio.save('./models/best_clasificador_propio.h5')\n",
    "# best_clasificador_propio = tf.keras.models.load_model('./models/best_clasificador_propio.h5')"
   ]
  },
  {
   "cell_type": "code",
   "execution_count": null,
   "id": "d1b7ebf0",
   "metadata": {},
   "outputs": [],
   "source": [
    "print('--------------------------------------------------------')\n",
    "print('Reporte para el mejor modelo propio sobre datos de entrenamiento')\n",
    "y_true, y_pred, f1 = darF1Score(best_clasificador_propio, ds_train, print_report=True)\n",
    "print('--------------------------------------------------------')\n",
    "print('Reporte para el mejor modelo propio sobre datos de validación')\n",
    "y_true, y_pred, f1 = darF1Score(best_clasificador_propio, ds_val, print_report=True)\n",
    "print('--------------------------------------------------------')\n",
    "print('Reporte para el mejor modelo propio sobre datos de prueba')\n",
    "y_true, y_pred, f1 = darF1Score(best_clasificador_propio, ds_test, print_report=True)\n",
    "plt.figure(figsize=(8,8))\n",
    "mat = confusion_matrix(y_true, y_pred)\n",
    "sns.heatmap(mat.T, square=True, annot=True, cmap='Blues', fmt='d', cbar=False)\n",
    "plt.xlabel('Etiquetas reales')\n",
    "plt.ylabel('Etiquetas predichas')"
   ]
  }
 ],
 "metadata": {
  "kernelspec": {
   "display_name": "Python 3 (ipykernel)",
   "language": "python",
   "name": "python3"
  },
  "language_info": {
   "codemirror_mode": {
    "name": "ipython",
    "version": 3
   },
   "file_extension": ".py",
   "mimetype": "text/x-python",
   "name": "python",
   "nbconvert_exporter": "python",
   "pygments_lexer": "ipython3",
   "version": "3.8.8"
  }
 },
 "nbformat": 4,
 "nbformat_minor": 5
}
