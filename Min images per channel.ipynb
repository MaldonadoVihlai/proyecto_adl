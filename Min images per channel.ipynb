{
 "cells": [
  {
   "cell_type": "code",
   "execution_count": 1,
   "id": "f8a5e707",
   "metadata": {},
   "outputs": [],
   "source": [
    "import os"
   ]
  },
  {
   "cell_type": "code",
   "execution_count": 3,
   "id": "996032d4",
   "metadata": {},
   "outputs": [],
   "source": [
    "path = './data/train/'\n",
    "clients_ids = os.listdir(path)"
   ]
  },
  {
   "cell_type": "code",
   "execution_count": 8,
   "id": "dbef50f8",
   "metadata": {},
   "outputs": [
    {
     "name": "stdout",
     "output_type": "stream",
     "text": [
      "00052 FLAIR 129\n",
      "00100 FLAIR 22\n",
      "00108 FLAIR 20\n",
      "00818 FLAIR 15\n",
      "00052 T1w 35\n",
      "00053 T1w 30\n",
      "00054 T1w 28\n",
      "00100 T1w 22\n",
      "00108 T1w 20\n",
      "00459 T1w 19\n",
      "00052 T1wCE 129\n",
      "00058 T1wCE 120\n",
      "00100 T1wCE 22\n",
      "00122 T1wCE 20\n",
      "00459 T1wCE 19\n",
      "00052 T2w 129\n",
      "00100 T2w 22\n",
      "00105 T2w 20\n",
      "00459 T2w 19\n"
     ]
    }
   ],
   "source": [
    "mri_types = ['FLAIR','T1w','T1wCE','T2w']\n",
    "min_files_per_mri = {mri_type: 1000 for mri_type in mri_types}\n",
    "for mri_type in mri_types:\n",
    "    for client_id in clients_ids:\n",
    "        num_images_actual = len(os.listdir(path + client_id + '/' + mri_type))\n",
    "        if num_images_actual < min_files_per_mri[mri_type]:\n",
    "            min_files_per_mri[mri_type] = num_images_actual\n",
    "            print(client_id, mri_type, num_images_actual)"
   ]
  },
  {
   "cell_type": "code",
   "execution_count": 7,
   "id": "9659e527",
   "metadata": {},
   "outputs": [
    {
     "data": {
      "text/plain": [
       "{'FLAIR': 15, 'T1w': 19, 'T1wCE': 19, 'T2w': 19}"
      ]
     },
     "execution_count": 7,
     "metadata": {},
     "output_type": "execute_result"
    }
   ],
   "source": [
    "min_files_per_mri"
   ]
  }
 ],
 "metadata": {
  "kernelspec": {
   "display_name": "Python 3 (ipykernel)",
   "language": "python",
   "name": "python3"
  },
  "language_info": {
   "codemirror_mode": {
    "name": "ipython",
    "version": 3
   },
   "file_extension": ".py",
   "mimetype": "text/x-python",
   "name": "python",
   "nbconvert_exporter": "python",
   "pygments_lexer": "ipython3",
   "version": "3.8.8"
  }
 },
 "nbformat": 4,
 "nbformat_minor": 5
}
