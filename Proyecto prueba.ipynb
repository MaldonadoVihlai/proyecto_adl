{
 "cells": [
  {
   "cell_type": "code",
   "execution_count": 1,
   "id": "eae6a724",
   "metadata": {},
   "outputs": [
    {
     "name": "stdout",
     "output_type": "stream",
     "text": [
      "Tensorflow version: 2.10.0\n"
     ]
    }
   ],
   "source": [
    "import warnings, random, os, pydicom, cv2, glob, re\n",
    "warnings.filterwarnings('ignore')\n",
    "import pandas as pd\n",
    "import numpy as np\n",
    "import seaborn as sns; sns.set()\n",
    "\n",
    "import matplotlib.pyplot as plt\n",
    "%matplotlib inline\n",
    "\n",
    "import tensorflow as tf\n",
    "from tensorflow.keras.applications import InceptionV3, MobileNetV2, VGG19\n",
    "\n",
    "from tensorflow import keras\n",
    "from tensorflow.keras.models import Sequential\n",
    "from tensorflow.keras.layers import Dropout, Flatten, Dense, Input, GlobalAveragePooling2D, MaxPooling2D, Conv2D, AveragePooling2D\n",
    "\n",
    "from tensorflow.keras.callbacks import EarlyStopping\n",
    "\n",
    "from sklearn.metrics import classification_report, confusion_matrix, f1_score\n",
    "from sklearn.model_selection import train_test_split\n",
    "\n",
    "from pydicom.pixel_data_handlers.util import apply_voi_lut\n",
    "\n",
    "print('Tensorflow version:', tf.__version__)"
   ]
  },
  {
   "cell_type": "code",
   "execution_count": null,
   "id": "7db5e4e4",
   "metadata": {},
   "outputs": [],
   "source": [
    "mri_types = ['FLAIR','T1w','T1wCE','T2w']\n",
    "SIZE = 128\n",
    "NUM_IMAGES = 64"
   ]
  },
  {
   "cell_type": "code",
   "execution_count": null,
   "id": "4a151d55",
   "metadata": {},
   "outputs": [],
   "source": [
    "def load_dicom_image(path, img_size=SIZE):\n",
    "    dicom = pydicom.read_file(path)\n",
    "    data = dicom.pixel_array\n",
    "    data = cv2.resize(data, (img_size, img_size))\n",
    "    return data\n",
    "# load_dicom_image('./data/00000/FLAIR/Image-154.dcm')"
   ]
  },
  {
   "cell_type": "code",
   "execution_count": null,
   "id": "93af2a2f",
   "metadata": {},
   "outputs": [],
   "source": [
    "def load_dicom_images_3d(scan_id, num_imgs=NUM_IMAGES, img_size=SIZE, mri_type=mri_types[0]):\n",
    "    files = sorted(glob.glob(f\"./data/{scan_id}/{mri_type}/*.dcm\"), \n",
    "               key=lambda var:[int(x) if x.isdigit() else x for x in re.findall(r'[^0-9]|[0-9]+', var)])\n",
    "    middle = len(files)//2\n",
    "    num_imgs2 = num_imgs//2\n",
    "    p1 = max(0, middle - num_imgs2)\n",
    "    p2 = min(len(files), middle + num_imgs2)\n",
    "    img3d = np.stack([load_dicom_image(f) for f in files[p1:p2]]).T \n",
    "    if img3d.shape[-1] < num_imgs:\n",
    "        n_zero = np.zeros((img_size, img_size, num_imgs - img3d.shape[-1]))\n",
    "        img3d = np.concatenate((img3d,  n_zero), axis = -1)\n",
    "    if np.min(img3d) < np.max(img3d):\n",
    "        img3d = img3d - np.min(img3d)\n",
    "        img3d = img3d / np.max(img3d)     \n",
    "    return img3d"
   ]
  },
  {
   "cell_type": "code",
   "execution_count": null,
   "id": "18808d6a",
   "metadata": {},
   "outputs": [],
   "source": [
    "df_labels = pd.read_csv('./labels.csv', dtype={0:'object', 1:'int8'})\n",
    "df_labels.head()"
   ]
  },
  {
   "cell_type": "code",
   "execution_count": null,
   "id": "3b0a225e",
   "metadata": {},
   "outputs": [],
   "source": [
    "df_labels_train, df_labels_test = train_test_split(df_labels, test_size=0.2, random_state=123)"
   ]
  },
  {
   "cell_type": "code",
   "execution_count": null,
   "id": "ba5e6a33",
   "metadata": {},
   "outputs": [],
   "source": [
    "def generate_image_label_train(i):\n",
    "    i = i.numpy()\n",
    "    x = load_dicom_images_3d(df_labels_train['BraTS21ID'].iloc[i])\n",
    "    y = df_labels_train['MGMT_value'].iloc[i]\n",
    "    return x, y\n",
    "def generate_image_label_test(i):\n",
    "    i = i.numpy()\n",
    "    x = load_dicom_images_3d(df_labels_test['BraTS21ID'].iloc[i])\n",
    "    y = df_labels_test['MGMT_value'].iloc[i]\n",
    "    return x, y"
   ]
  },
  {
   "cell_type": "code",
   "execution_count": null,
   "id": "f4600f6a",
   "metadata": {},
   "outputs": [],
   "source": [
    "index_train = list(range(df_labels_train.shape[0]))\n",
    "train_dataset = tf.data.Dataset.from_generator(lambda: index_train, tf.uint8)\n",
    "train_dataset = train_dataset.map(lambda i: tf.py_function(func=generate_image_label_train, inp=[i], Tout=[tf.uint8,tf.float32]), \n",
    "                                  num_parallel_calls=tf.data.AUTOTUNE)\n",
    "index_test = list(range(df_labels_test.shape[0]))\n",
    "test_dataset = tf.data.Dataset.from_generator(lambda: index_test, tf.uint8)\n",
    "test_dataset = test_dataset.map(lambda i: tf.py_function(func=generate_image_label_test, inp=[i], Tout=[tf.uint8,tf.float32]), \n",
    "                                num_parallel_calls=tf.data.AUTOTUNE)"
   ]
  },
  {
   "cell_type": "code",
   "execution_count": null,
   "id": "940c78a8",
   "metadata": {},
   "outputs": [],
   "source": [
    "def set_tf_shape(x, y):\n",
    "    new_x, new_y = tf.convert_to_tensor(x), tf.convert_to_tensor(y)\n",
    "    new_x.set_shape([SIZE, SIZE, NUM_IMAGES])\n",
    "    new_y.set_shape([1])\n",
    "    return new_x, new_y\n",
    "train_dataset = train_dataset.map(set_tf_shape)\n",
    "test_dataset = test_dataset.map(set_tf_shape)\n",
    "train_dataset, test_dataset = train_dataset.batch(1), test_dataset.batch(1)"
   ]
  },
  {
   "cell_type": "code",
   "execution_count": null,
   "id": "6b7f8283",
   "metadata": {},
   "outputs": [],
   "source": [
    "def crear_clasificador_propio(n_lay_convs = 3, fil1 = 16, fil2 = 32, fil3 = 64, ks=3, s=2, \n",
    "                              n_lay_dense = 2, nn1 = 32, nn2 = 16, activacion = 'relu'):\n",
    "    output = 1\n",
    "    filtros = [fil1, fil2, fil3]\n",
    "    neurons = [nn1, nn2]\n",
    "    clasificador = Sequential(name=\"ClasificadorPropio\")\n",
    "    clasificador.add(Input(shape=(SIZE, SIZE, NUM_IMAGES)))\n",
    "    for i in range(n_lay_convs):\n",
    "        clasificador.add(Conv2D(filters=filtros[i], kernel_size=ks, strides=s, padding=\"same\", activation=activacion))\n",
    "    clasificador.add(GlobalAveragePooling2D()) \n",
    "    for i in range(n_lay_dense):\n",
    "        clasificador.add(Dense(neurons[i], activation=activacion))\n",
    "    clasificador.add(Dense(output, activation='sigmoid', name= 'Capa_Salida'))\n",
    "    clasificador.compile(loss='binary_crossentropy',\n",
    "                          optimizer='adam', \n",
    "                          metrics=[\"accuracy\"])\n",
    "    return clasificador"
   ]
  },
  {
   "cell_type": "code",
   "execution_count": null,
   "id": "5f60788d",
   "metadata": {},
   "outputs": [],
   "source": [
    "clasificador_propio = crear_clasificador_propio()\n",
    "clasificador_propio.summary()"
   ]
  },
  {
   "cell_type": "code",
   "execution_count": null,
   "id": "f8fffc6f",
   "metadata": {},
   "outputs": [],
   "source": [
    "early_stopping = EarlyStopping(monitor='loss', patience=3, verbose=1, mode='min', baseline=None, restore_best_weights=False)"
   ]
  },
  {
   "cell_type": "code",
   "execution_count": null,
   "id": "9713d1c2",
   "metadata": {},
   "outputs": [],
   "source": [
    "for x, y in train_dataset.take(1):\n",
    "    print(x,y)"
   ]
  },
  {
   "cell_type": "code",
   "execution_count": null,
   "id": "9a136cfc",
   "metadata": {},
   "outputs": [],
   "source": [
    "with tf.device('/device:GPU:0'): \n",
    "    clasificador_propio.fit(\n",
    "        train_dataset,\n",
    "        epochs=100,\n",
    "        callbacks=[early_stopping]\n",
    "    )"
   ]
  }
 ],
 "metadata": {
  "kernelspec": {
   "display_name": "Python 3 (ipykernel)",
   "language": "python",
   "name": "python3"
  },
  "language_info": {
   "codemirror_mode": {
    "name": "ipython",
    "version": 3
   },
   "file_extension": ".py",
   "mimetype": "text/x-python",
   "name": "python",
   "nbconvert_exporter": "python",
   "pygments_lexer": "ipython3",
   "version": "3.8.8"
  }
 },
 "nbformat": 4,
 "nbformat_minor": 5
}
